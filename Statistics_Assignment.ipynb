{
  "nbformat": 4,
  "nbformat_minor": 0,
  "metadata": {
    "colab": {
      "provenance": []
    },
    "kernelspec": {
      "name": "python3",
      "display_name": "Python 3"
    },
    "language_info": {
      "name": "python"
    }
  },
  "cells": [
    {
      "cell_type": "code",
      "execution_count": 1,
      "metadata": {
        "colab": {
          "base_uri": "https://localhost:8080/"
        },
        "id": "XxHRHWjFJCco",
        "outputId": "a6253a46-d82d-4dd7-e09a-947aa1b78372"
      },
      "outputs": [
        {
          "output_type": "stream",
          "name": "stdout",
          "text": [
            "[128 118 104  97 110 128 108 112 100 100]\n",
            "Mean: 108.94\n",
            "Median: 109.5\n",
            "Mode: [97, 113]\n",
            "Weighted Mean: 109.27642276422765\n",
            "Geometric Mean: 108.31139336758402\n",
            "Harmonic Mean: 107.68717366618071\n",
            "Midrange: 110.0\n",
            "Trimmed Mean (10%): 108.675\n"
          ]
        }
      ],
      "source": [
        "\"\"\"\n",
        "Q1. Generate a list of 100 integers containing values between 90 to 130 and store it in the variable `int_list`. After generating the list, find the following:\n",
        "       (i) Write a Python function to calculate the mean of a given list of numbers. Create a function to find the median of a list of numbers.\n",
        "       (ii) Develop a program to compute the mode of a list of integers.\n",
        "       (iii) Implement a function to calculate the weighted mean of a list of values and their corresponding weights.\n",
        "       (iv) Write a Python function to find the geometric mean of a list of positive numbers.\n",
        "       (v) Create a program to calculate the harmonic mean of a list of values.\n",
        "       (vi) Build a function to determine the midrange of a list of numbers (average of the minimum and maximum).\n",
        "       (vii) Implement a Python program to find the trimmed mean of a list, excluding a certain percentage of outliers.Q1. Generate a list of 100 integers containing values between 90 to 130 and store it in the variable int_list.\n",
        "\"\"\"\n",
        "import numpy as np\n",
        "\n",
        "np.random.seed(42)  # for reproducibility\n",
        "int_list = np.random.randint(90, 131, 100)\n",
        "print(int_list[:10])  # preview first 10 elements\n",
        "\n",
        "## (i) Write a Python function to calculate the mean and median of a list of numbers.\n",
        "\n",
        "def calculate_mean(lst):\n",
        "    return sum(lst) / len(lst)\n",
        "\n",
        "def calculate_median(lst):\n",
        "    sorted_lst = sorted(lst)\n",
        "    n = len(lst)\n",
        "    mid = n // 2\n",
        "    if n % 2 == 0:\n",
        "        return (sorted_lst[mid - 1] + sorted_lst[mid]) / 2\n",
        "    else:\n",
        "        return sorted_lst[mid]\n",
        "\n",
        "print(\"Mean:\", calculate_mean(int_list))\n",
        "print(\"Median:\", calculate_median(int_list))\n",
        "\n",
        "## (ii) Develop a program to compute the mode of a list of integers.\n",
        "\n",
        "from collections import Counter\n",
        "\n",
        "def calculate_mode(lst):\n",
        "    freq = Counter(lst)\n",
        "    max_count = max(freq.values())\n",
        "    modes = [int(k) for k, v in freq.items() if v == max_count]  # Convert to native int\n",
        "    return modes\n",
        "\n",
        "print(\"Mode:\", calculate_mode(int_list))\n",
        "\n",
        "\n",
        "\n",
        "## (iii) Implement a function to calculate the weighted mean of a list of values and their corresponding weights.\n",
        "\n",
        "def weighted_mean(values, weights):\n",
        "    return sum(v * w for v, w in zip(values, weights)) / sum(weights)\n",
        "\n",
        "weights = np.random.randint(1, 5, len(int_list))\n",
        "print(\"Weighted Mean:\", weighted_mean(int_list, weights))\n",
        "\n",
        "## (iv) Write a Python function to find the geometric mean of a list of positive numbers.\n",
        "\n",
        "from scipy.stats import gmean\n",
        "\n",
        "print(\"Geometric Mean:\", gmean(int_list))\n",
        "\n",
        "## (v) Create a program to calculate the harmonic mean of a list of values.\n",
        "\n",
        "from scipy.stats import hmean\n",
        "\n",
        "print(\"Harmonic Mean:\", hmean(int_list))\n",
        "\n",
        "## (vi) Build a function to determine the midrange of a list of numbers (average of the minimum and maximum).\n",
        "\n",
        "def calculate_midrange(lst):\n",
        "    return (min(lst) + max(lst)) / 2\n",
        "\n",
        "print(\"Midrange:\", calculate_midrange(int_list))\n",
        "\n",
        "## (vii) Implement a Python program to find the trimmed mean of a list, excluding a certain percentage of outliers.\n",
        "\n",
        "from scipy.stats import trim_mean\n",
        "\n",
        " # Remove top and bottom 10% (10% = 0.1)\n",
        "trimmed = trim_mean(int_list, proportiontocut=0.1)\n",
        "print(\"Trimmed Mean (10%):\", trimmed)\n",
        "\n",
        "\n"
      ]
    },
    {
      "cell_type": "code",
      "source": [
        "\"\"\"\n",
        "## Q2. Generate a list of 500 integers between 200 and 300 and store it in int_list2.\n",
        "                (i) Compare the given list of visualization for the given data:\n",
        "                        1. Frequency & Gaussian distribution\n",
        "                        2. Frequency smoothened KDE plot\n",
        "                        3. Gaussian distribution & smoothened KDE plot\n",
        "                (ii) Write a Python function to calculate the range of a given list of numbers.\n",
        "                (iii) Create a program to find the variance and standard deviation of a list of numbers.\n",
        "                (iv) Implement a function to compute the interquartile range (IQR) of a list of values.\n",
        "                (v) Build a program to calculate the coefficient of variation for a dataset.\n",
        "                (vi) Write a Python function to find the mean absolute deviation (MAD) of a list of numbers.\n",
        "                (vii) Create a program to calculate the quartile deviation of a list of values.\n",
        "                (viii) Implement a function to find the range-based coefficient of dispersion for a dataset.\n",
        " \"\"\"\n",
        "import numpy as np\n",
        "import seaborn as sns\n",
        "import matplotlib.pyplot as plt\n",
        "from scipy.stats import norm\n",
        "\n",
        "np.random.seed(42)\n",
        "int_list2 = np.random.randint(200, 301, 500)\n",
        "print(\"First 10 values:\", int_list2[:10])\n",
        "\n",
        "## (i) Compare visualizations: Frequency & Gaussian distribution, Frequency with KDE, Gaussian distribution & KDE plot\n",
        "\n",
        " # Histogram with Gaussian overlay\n",
        "sns.histplot(int_list2, kde=False, stat='density', bins=30, color='skyblue', label='Histogram')\n",
        "mean = np.mean(int_list2)\n",
        "std = np.std(int_list2)\n",
        "x = np.linspace(min(int_list2), max(int_list2), 100)\n",
        "plt.plot(x, norm.pdf(x, mean, std), color='red', label='Gaussian')\n",
        "plt.title(\"1. Histogram & Gaussian\")\n",
        "plt.legend()\n",
        "plt.show()\n",
        "\n",
        " # Histogram with KDE (smoothed)\n",
        "sns.histplot(int_list2, kde=True, stat='density', bins=30, color='lightgreen')\n",
        "plt.title(\"2. Histogram with KDE\")\n",
        "plt.show()\n",
        "\n",
        " # KDE and Gaussian together\n",
        "sns.kdeplot(int_list2, color='blue', label='KDE')\n",
        "plt.plot(x, norm.pdf(x, mean, std), color='orange', label='Gaussian')\n",
        "plt.title(\"3. KDE and Gaussian\")\n",
        "plt.legend()\n",
        "plt.show()\n",
        "\n",
        "## (ii) Write a Python function to calculate the range of a given list of numbers.\n",
        "\n",
        "def calculate_range(lst):\n",
        "    return max(lst) - min(lst)\n",
        "\n",
        "print(\"Range:\", calculate_range(int_list2))\n",
        "\n",
        "## (iii) Create a program to find the variance and standard deviation of a list of numbers.\n",
        "\n",
        "variance = np.var(int_list2)\n",
        "std_dev = np.std(int_list2)\n",
        "print(\"Variance:\", variance)\n",
        "print(\"Standard Deviation:\", std_dev)\n",
        "\n",
        "## (iv) Implement a function to compute the interquartile range (IQR) of a list of values.\n",
        "\n",
        "q75, q25 = np.percentile(int_list2, [75, 25])\n",
        "iqr = q75 - q25\n",
        "print(\"IQR:\", iqr)\n",
        "\n",
        "##(v)  Build a program to calculate the coefficient of variation for a dataset.\n",
        "\n",
        "cv = std_dev / mean\n",
        "print(\"Coefficient of Variation:\", cv)\n",
        "\n",
        "## (vi) Write a Python function to find the mean absolute deviation (MAD) of a list of numbers.\n",
        "\n",
        "mad = np.mean(np.abs(int_list2 - mean))\n",
        "print(\"Mean Absolute Deviation (MAD):\", mad)\n",
        "\n",
        "## (vii)  Create a program to calculate the quartile deviation of a list of values.\n",
        "\n",
        "quartile_deviation = (q75 - q25) / 2\n",
        "print(\"Quartile Deviation:\", quartile_deviation)\n",
        "\n",
        "## (viii)  Implement a function to find the range-based coefficient of dispersion for a dataset.\n",
        "\n",
        "range_cd = (max(int_list2) - min(int_list2)) / (max(int_list2) + min(int_list2))\n",
        "print(\"Range-Based Coefficient of Dispersion:\", range_cd)\n"
      ],
      "metadata": {
        "colab": {
          "base_uri": "https://localhost:8080/",
          "height": 1000
        },
        "id": "fQjXJ7i4JSGf",
        "outputId": "5a62d06b-e239-43c9-86dc-229efd57b614"
      },
      "execution_count": 2,
      "outputs": [
        {
          "output_type": "stream",
          "name": "stdout",
          "text": [
            "First 10 values: [251 292 214 271 260 220 282 286 274 274]\n"
          ]
        },
        {
          "output_type": "display_data",
          "data": {
            "text/plain": [
              "<Figure size 640x480 with 1 Axes>"
            ],
            "image/png": "[encoded data removed]"
          },
          "metadata": {}
        },
        {
          "output_type": "display_data",
          "data": {
            "text/plain": [
              "<Figure size 640x480 with 1 Axes>"
            ],
            "image/png": "[encoded data removed]"
          },
          "metadata": {}
        },
        {
          "output_type": "display_data",
          "data": {
            "text/plain": [
              "<Figure size 640x480 with 1 Axes>"
            ],
            "image/png": "[encoded data removed]"
          },
          "metadata": {}
        },
        {
          "output_type": "stream",
          "name": "stdout",
          "text": [
            "Range: 100\n",
            "Variance: 901.3499\n",
            "Standard Deviation: 30.022489903404082\n",
            "IQR: 51.25\n",
            "Coefficient of Variation: 0.12037404235357076\n",
            "Mean Absolute Deviation (MAD): 25.803440000000002\n",
            "Quartile Deviation: 25.625\n",
            "Range-Based Coefficient of Dispersion: 0.2\n"
          ]
        }
      ]
    },
    {
      "cell_type": "code",
      "source": [
        "# Q3. Write a Python class representing a discrete random variable with methods to calculate its expected value and variance.\n",
        "\n",
        "class DiscreteRandomVariable:\n",
        "    def __init__(self, outcomes, probabilities):\n",
        "       # Initialize the discrete random variable.\n",
        "        if len(outcomes) != len(probabilities):\n",
        "            raise ValueError(\"Length of outcomes and probabilities must be the same.\")\n",
        "        if not abs(sum(probabilities) - 1.0) < 1e-6:\n",
        "            raise ValueError(\"Probabilities must sum to 1.\")\n",
        "\n",
        "        self.outcomes = outcomes\n",
        "        self.probabilities = probabilities\n",
        "\n",
        "    def expected_value(self):\n",
        "        \"\"\"\n",
        "        Calculate expected value E[X] = Σ (x * P(x))\n",
        "        \"\"\"\n",
        "        return sum(x * p for x, p in zip(self.outcomes, self.probabilities))\n",
        "\n",
        "    def variance(self):\n",
        "        \"\"\"\n",
        "        Calculate variance Var[X] = Σ ((x - E[X])^2 * P(x))\n",
        "        \"\"\"\n",
        "        mean = self.expected_value()\n",
        "        expected_square = sum((x ** 2) * p for x, p in zip(self.outcomes, self.probabilities))\n",
        "        return expected_square - (mean ** 2)\n",
        "\n",
        "\n",
        "# Example usage:\n",
        "outcomes = [1, 2, 3, 4, 5]\n",
        "probabilities = [0.1, 0.2, 0.3, 0.2, 0.2]\n",
        "\n",
        "drv = DiscreteRandomVariable(outcomes, probabilities)\n",
        "\n",
        "print(\"Expected Value:\", drv.expected_value())\n",
        "print(\"Variance:\", drv.variance())\n"
      ],
      "metadata": {
        "id": "O4s97AWQPEMV",
        "colab": {
          "base_uri": "https://localhost:8080/"
        },
        "outputId": "87313a08-a830-4900-f698-0d59624b54f2"
      },
      "execution_count": 3,
      "outputs": [
        {
          "output_type": "stream",
          "name": "stdout",
          "text": [
            "Expected Value: 3.2\n",
            "Variance: 1.5599999999999987\n"
          ]
        }
      ]
    },
    {
      "cell_type": "code",
      "source": [
        "# Q4.Implement a program to simulate the rolling of a fair six-sided die and calculate the expected value and variance of the outcomes.\n",
        "\n",
        "import random\n",
        "\n",
        "class FairSixSidedDie:\n",
        "    def __init__(self):\n",
        "        self.outcomes = [1, 2, 3, 4, 5, 6]\n",
        "        self.probabilities = [1/6] * 6  # uniform distribution\n",
        "\n",
        "    def expected_value(self):\n",
        "        return sum(x * p for x, p in zip(self.outcomes, self.probabilities))\n",
        "\n",
        "    def variance(self):\n",
        "        mean = self.expected_value()\n",
        "        expected_square = sum((x ** 2) * p for x, p in zip(self.outcomes, self.probabilities))\n",
        "        return expected_square - (mean ** 2)\n",
        "\n",
        "    def roll(self):\n",
        "        return random.choice(self.outcomes)\n",
        "\n",
        "\n",
        "# Create the die object\n",
        "die = FairSixSidedDie()\n",
        "\n",
        "# Simulate rolling the die 10 times\n",
        "rolls = [die.roll() for _ in range(10)]\n",
        "print(\"Simulated Rolls:\", rolls)\n",
        "\n",
        "# Calculate expected value and variance\n",
        "print(\"Expected Value (E[X]):\", die.expected_value())\n",
        "print(\"Variance (Var[X]):\", die.variance())\n"
      ],
      "metadata": {
        "id": "EH0Q3rl_HLlf",
        "colab": {
          "base_uri": "https://localhost:8080/"
        },
        "outputId": "431b7d3f-d709-4678-cbef-56ec9d6e6470"
      },
      "execution_count": 4,
      "outputs": [
        {
          "output_type": "stream",
          "name": "stdout",
          "text": [
            "Simulated Rolls: [6, 6, 6, 6, 2, 4, 1, 2, 3, 2]\n",
            "Expected Value (E[X]): 3.5\n",
            "Variance (Var[X]): 2.916666666666666\n"
          ]
        }
      ]
    },
    {
      "cell_type": "code",
      "source": [
        "# Q5.Create a Python function to generate random samples from a given probability distribution (e.g., binomial, Poisson) and calculate their mean and variance.\n",
        "\n",
        "import numpy as np\n",
        "\n",
        "def generate_distribution_samples(dist_type, size, **kwargs):\n",
        "    # Generate samples from binomial or poisson distribution\n",
        "    if dist_type == 'binomial':\n",
        "        n = kwargs.get('n')\n",
        "        p = kwargs.get('p')\n",
        "        samples = np.random.binomial(n=n, p=p, size=size)\n",
        "    elif dist_type == 'poisson':\n",
        "        lam = kwargs.get('lam')\n",
        "        samples = np.random.poisson(lam=lam, size=size)\n",
        "    else:\n",
        "        raise ValueError(\"Supported distributions: 'binomial', 'poisson'\")\n",
        "\n",
        "    # Calculate mean and variance\n",
        "    mean = np.mean(samples)\n",
        "    variance = np.var(samples)\n",
        "\n",
        "    return samples, mean, variance\n",
        "\n",
        "\n",
        "# Generate binomial samples with n=10 trials and p=0.5 success probability\n",
        "samples_bin, mean_bin, var_bin = generate_distribution_samples('binomial', size=1000, n=10, p=0.5)\n",
        "print(\"Binomial - Mean:\", mean_bin, \"Variance:\", var_bin)\n",
        "\n",
        "# Generate poisson samples with lambda = 4\n",
        "samples_poi, mean_poi, var_poi = generate_distribution_samples('poisson', size=1000, lam=4)\n",
        "print(\"Poisson - Mean:\", mean_poi, \"Variance:\", var_poi)\n"
      ],
      "metadata": {
        "colab": {
          "base_uri": "https://localhost:8080/"
        },
        "id": "iw0U2gq_J5A1",
        "outputId": "ab9cdb24-a985-45b9-c379-8978da183bc1"
      },
      "execution_count": 5,
      "outputs": [
        {
          "output_type": "stream",
          "name": "stdout",
          "text": [
            "Binomial - Mean: 5.043 Variance: 2.511151\n",
            "Poisson - Mean: 3.937 Variance: 3.8690310000000006\n"
          ]
        }
      ]
    },
    {
      "cell_type": "code",
      "source": [
        "# Q6.Write a Python script to generate random numbers from a Gaussian (normal) distribution and compute the mean, variance, and standard deviation of the samples.\n",
        "\n",
        "import numpy as np\n",
        "\n",
        "# Generate 1000 random numbers from a normal distribution with mean=50 and std=10\n",
        "samples = np.random.normal(loc=50, scale=10, size=1000)\n",
        "\n",
        "# Compute mean, variance, and standard deviation\n",
        "mean = np.mean(samples)\n",
        "variance = np.var(samples)\n",
        "std_dev = np.std(samples)\n",
        "\n",
        "# Display the results\n",
        "print(\"Generated 1000 samples from N(50, 10^2)\")\n",
        "print(\"Mean:\", mean)\n",
        "print(\"Variance:\", variance)\n",
        "print(\"Standard Deviation:\", std_dev)\n"
      ],
      "metadata": {
        "colab": {
          "base_uri": "https://localhost:8080/"
        },
        "id": "4wFI_usRM0iR",
        "outputId": "8a504950-7286-482e-820c-4f3e63bc7d99"
      },
      "execution_count": 6,
      "outputs": [
        {
          "output_type": "stream",
          "name": "stdout",
          "text": [
            "Generated 1000 samples from N(50, 10^2)\n",
            "Mean: 50.22335686327531\n",
            "Variance: 102.14998911623722\n",
            "Standard Deviation: 10.106927778323007\n"
          ]
        }
      ]
    },
    {
      "cell_type": "code",
      "source": [
        "\"\"\"\n",
        "Q7. Use seaborn library to load the 'tips' dataset. For the columns 'total_bill' and 'tip', do the following:\n",
        "\n",
        "      (i) Write a Python function that calculates their skewness and determines if the distribution is approximately symmetric.\n",
        "\n",
        "      (ii) Create a program that determines whether each column exhibits positive skewness, negative skewness, or is approximately symmetric.\n",
        "\n",
        "      (iii) Write a function that calculates the covariance between two columns.\n",
        "\n",
        "      (iv) Implement a Python program that calculates the Pearson correlation coefficient between two columns.\n",
        "\n",
        "      (v) Write a script to visualize the correlation between two specific columns in a Pandas DataFrame using scatter plots.\n",
        "\"\"\"\n",
        "\n",
        "import seaborn as sns\n",
        "import pandas as pd\n",
        "import numpy as np\n",
        "import matplotlib.pyplot as plt\n",
        "from scipy.stats import skew, pearsonr\n",
        "\n",
        "# Load the 'tips' dataset\n",
        "tips = sns.load_dataset('tips')\n",
        "\n",
        "# (i) Function to calculate skewness of a column\n",
        "def calculate_skewness(data, column):\n",
        "    \"\"\"\n",
        "    Calculate the skewness of the specified column in the DataFrame.\n",
        "    \"\"\"\n",
        "    return skew(data[column])\n",
        "\n",
        "# (ii) Function to determine skewness type based on skewness value\n",
        "def skewness_type(skew_value, threshold=0.5):\n",
        "    \"\"\"\n",
        "    Determine if the distribution is approximately symmetric, positively skewed, or negatively skewed.\n",
        "    The threshold defines what is considered approximately symmetric.\n",
        "    \"\"\"\n",
        "    if abs(skew_value) < threshold:\n",
        "        return \"approximately symmetric\"\n",
        "    elif skew_value > 0:\n",
        "        return \"positively skewed\"\n",
        "    else:\n",
        "        return \"negatively skewed\"\n",
        "\n",
        "# (iii) Function to calculate covariance between two columns\n",
        "def calculate_covariance(data, col1, col2):\n",
        "    \"\"\"\n",
        "    Calculate covariance between two specified columns in the DataFrame.\n",
        "    \"\"\"\n",
        "    return np.cov(data[col1], data[col2])[0, 1]\n",
        "\n",
        "# (iv) Function to calculate Pearson correlation coefficient between two columns\n",
        "def calculate_pearson_correlation(data, col1, col2):\n",
        "    \"\"\"\n",
        "    Calculate the Pearson correlation coefficient between two specified columns.\n",
        "    \"\"\"\n",
        "    corr, _ = pearsonr(data[col1], data[col2])\n",
        "    return corr\n",
        "\n",
        "# (v) Function to visualize correlation between two columns using a scatter plot\n",
        "def plot_scatter(data, col1, col2):\n",
        "    \"\"\"\n",
        "    Create and display a scatter plot showing the correlation between two columns.\n",
        "    \"\"\"\n",
        "    plt.figure(figsize=(8,6))\n",
        "    sns.scatterplot(x=data[col1], y=data[col2])\n",
        "    plt.title(f'Scatter plot between {col1} and {col2}')\n",
        "    plt.xlabel(col1)\n",
        "    plt.ylabel(col2)\n",
        "    plt.show()\n",
        "\n",
        "# Applying the functions to 'total_bill' and 'tip' columns\n",
        "\n",
        "# Calculate skewness\n",
        "total_bill_skew = calculate_skewness(tips, 'total_bill')\n",
        "tip_skew = calculate_skewness(tips, 'tip')\n",
        "\n",
        "# Print skewness and skewness type\n",
        "print(f\"Skewness of 'total_bill': {total_bill_skew:.3f} -> {skewness_type(total_bill_skew)}\")\n",
        "print(f\"Skewness of 'tip': {tip_skew:.3f} -> {skewness_type(tip_skew)}\")\n",
        "\n",
        "# Calculate covariance\n",
        "covariance = calculate_covariance(tips, 'total_bill', 'tip')\n",
        "print(f\"Covariance between 'total_bill' and 'tip': {covariance:.3f}\")\n",
        "\n",
        "# Calculate Pearson correlation coefficient\n",
        "pearson_corr = calculate_pearson_correlation(tips, 'total_bill', 'tip')\n",
        "print(f\"Pearson correlation coefficient between 'total_bill' and 'tip': {pearson_corr:.3f}\")\n",
        "\n",
        "# Visualize correlation with scatter plot\n",
        "plot_scatter(tips, 'total_bill', 'tip')\n"
      ],
      "metadata": {
        "colab": {
          "base_uri": "https://localhost:8080/",
          "height": 635
        },
        "id": "wANEJ_NHPdWa",
        "outputId": "18599082-c0eb-4f5a-95b2-0950ad48794b"
      },
      "execution_count": 7,
      "outputs": [
        {
          "output_type": "stream",
          "name": "stdout",
          "text": [
            "Skewness of 'total_bill': 1.126 -> positively skewed\n",
            "Skewness of 'tip': 1.456 -> positively skewed\n",
            "Covariance between 'total_bill' and 'tip': 8.324\n",
            "Pearson correlation coefficient between 'total_bill' and 'tip': 0.676\n"
          ]
        },
        {
          "output_type": "display_data",
          "data": {
            "text/plain": [
              "<Figure size 800x600 with 1 Axes>"
            ],
            "image/png": "[encoded data removed]"
          },
          "metadata": {}
        }
      ]
    },
    {
      "cell_type": "code",
      "source": [
        "# Q8. Write a Python function to calculate the probability density function (PDF) of a continuous random variable for a given normal distribution.\n",
        "\n",
        "from scipy.stats import norm\n",
        "\n",
        "def normal_pdf_scipy(x, mean=0, std_dev=1):\n",
        "    \"\"\"\n",
        "    Calculate the PDF of a normal distribution using scipy.stats.norm.\n",
        "    \"\"\"\n",
        "    return norm.pdf(x, loc=mean, scale=std_dev)\n",
        "\n",
        "# Example 1: Standard normal distribution (mean = 0, std_dev = 1)\n",
        "x1 = 0\n",
        "print(f\"PDF at x = {x1} (standard normal): {normal_pdf_scipy(x1):.5f}\")\n",
        "\n",
        "# Example 2: Normal distribution with mean = 10, std_dev = 2\n",
        "x2 = 12\n",
        "print(f\"PDF at x = {x2} (mean=10, std_dev=2): {normal_pdf_scipy(x2, mean=10, std_dev=2):.5f}\")\n",
        "\n",
        "\n",
        "\n"
      ],
      "metadata": {
        "colab": {
          "base_uri": "https://localhost:8080/"
        },
        "id": "gF3_0kEeQW8C",
        "outputId": "36624197-879f-4240-a35d-3091226bd9a9"
      },
      "execution_count": 8,
      "outputs": [
        {
          "output_type": "stream",
          "name": "stdout",
          "text": [
            "PDF at x = 0 (standard normal): 0.39894\n",
            "PDF at x = 12 (mean=10, std_dev=2): 0.12099\n"
          ]
        }
      ]
    },
    {
      "cell_type": "code",
      "source": [
        "# Q9. Create a program to calculate the cumulative distribution function (CDF) of exponential distribution.\n",
        "\n",
        "from scipy.stats import expon\n",
        "\n",
        "def exponential_cdf(x, scale):\n",
        "    \"\"\"\n",
        "    Calculate the CDF of the exponential distribution at value x.\n",
        "    \"\"\"\n",
        "    return expon.cdf(x, scale=scale)\n",
        "\n",
        "# Example usage:\n",
        "x_value = 5\n",
        "scale_param = 3  # For λ = 0.5 (since scale = 1/λ)\n",
        "cdf_result = exponential_cdf(x_value, scale_param)\n",
        "print(f\"CDF at x={x_value} for scale={scale_param}: {cdf_result}\")\n"
      ],
      "metadata": {
        "colab": {
          "base_uri": "https://localhost:8080/"
        },
        "id": "AkuZKuPybjKO",
        "outputId": "0284f0de-53b8-4107-efd6-5d4862328085"
      },
      "execution_count": 9,
      "outputs": [
        {
          "output_type": "stream",
          "name": "stdout",
          "text": [
            "CDF at x=5 for scale=3: 0.8111243971624382\n"
          ]
        }
      ]
    },
    {
      "cell_type": "code",
      "source": [
        "# Q10. Write a Python function to calculate the probability mass function (PMF) of Poisson distribution.\n",
        "\n",
        "from scipy.stats import poisson\n",
        "\n",
        "def poisson_pmf(k, lam):\n",
        "    \"\"\"\n",
        "    Calculate the PMF of the Poisson distribution at value k.\n",
        "    \"\"\"\n",
        "    return poisson.pmf(k, mu=lam)\n",
        "\n",
        "# Example usage:\n",
        "k_value = 3\n",
        "lambda_param = 2.5\n",
        "pmf_result = poisson_pmf(k_value, lambda_param)\n",
        "print(f\"PMF at k={k_value} for λ={lambda_param}: {pmf_result}\")\n",
        "\n"
      ],
      "metadata": {
        "colab": {
          "base_uri": "https://localhost:8080/"
        },
        "id": "yagsjIEKlUIZ",
        "outputId": "e75a5bfa-7772-4641-8668-89b30c7124a4"
      },
      "execution_count": 10,
      "outputs": [
        {
          "output_type": "stream",
          "name": "stdout",
          "text": [
            "PMF at k=3 for λ=2.5: 0.21376301724973648\n"
          ]
        }
      ]
    },
    {
      "cell_type": "code",
      "source": [
        "\"\"\"\n",
        "# Q11. A company wants to test if a new website layout leads to a higher conversion rate (percentage of visitors who make a purchase). They collect data from the old and new layouts to compare.\n",
        "                           To generate the data use the following command:\n",
        "                              ```python\n",
        "                                 import numpy as np\n",
        "                                 # 50 purchases out of 1000 visitors\n",
        "                                 old_layout = np.array([1] * 50 + [0] * 950)\n",
        "                                 # 70 purchases out of 1000 visitors\n",
        "                                 new_layout = np.array([1] * 70 + [0] * 930)\n",
        "\n",
        "                               ```\n",
        "                            Apply z-test to find which layout is successful\n",
        "\n",
        "\"\"\"\n",
        "import numpy as np\n",
        "from statsmodels.stats.proportion import proportions_ztest\n",
        "\n",
        "# Generate the data\n",
        "old_layout = np.array([1] * 50 + [0] * 950)   # 50 purchases out of 1000\n",
        "new_layout = np.array([1] * 70 + [0] * 930)   # 70 purchases out of 1000\n",
        "\n",
        "# Total successes and observations\n",
        "successes = np.array([old_layout.sum(), new_layout.sum()])\n",
        "n_obs = np.array([len(old_layout), len(new_layout)])\n",
        "\n",
        "# Perform one-sided z-test (H1: new_layout has higher conversion rate)\n",
        "z_stat, p_value = proportions_ztest(successes, n_obs, alternative='smaller')\n",
        "\n",
        "print(f\"Z-statistic: {z_stat:.4f}\")\n",
        "print(f\"P-value: {p_value:.4f}\")\n",
        "\n",
        "# Interpret result\n",
        "alpha = 0.05\n",
        "if p_value < alpha:\n",
        "    print(\"Reject the null hypothesis: The new layout has a significantly higher conversion rate.\")\n",
        "else:\n",
        "    print(\"Fail to reject the null hypothesis: No significant difference in conversion rates.\")\n"
      ],
      "metadata": {
        "colab": {
          "base_uri": "https://localhost:8080/"
        },
        "id": "Dq_1tbHYmt6L",
        "outputId": "131b080e-926c-4563-c60a-a2dd2d06a9de"
      },
      "execution_count": 11,
      "outputs": [
        {
          "output_type": "stream",
          "name": "stdout",
          "text": [
            "Z-statistic: -1.8831\n",
            "P-value: 0.0298\n",
            "Reject the null hypothesis: The new layout has a significantly higher conversion rate.\n"
          ]
        }
      ]
    },
    {
      "cell_type": "code",
      "source": [
        "\"\"\"\n",
        "Q12. A tutoring service claims that its program improves students' exam scores. A sample of students who participated in the program was taken,and their\n",
        "     scores before and after the program were recorded.\n",
        "\n",
        "          Use the below code to generate samples of respective arrays of marks:\n",
        "            ```python\n",
        "               before_program = np.array([75, 80, 85, 70, 90, 78, 92, 88, 82, 87])\n",
        "               after_program = np.array([80, 85, 90, 80, 92, 80, 95, 90, 85, 88])\n",
        "             ```\n",
        "        Use z-test to find if the claims made by tutor are true or fals\n",
        "\n",
        "\"\"\"\n",
        "\n",
        "import numpy as np\n",
        "from scipy.stats import norm\n",
        "\n",
        "before_program = np.array([75, 80, 85, 70, 90, 78, 92, 88, 82, 87])\n",
        "after_program = np.array([80, 85, 90, 80, 92, 80, 95, 90, 85, 88])\n",
        "\n",
        "# Step 1: Differences\n",
        "diff = after_program - before_program\n",
        "\n",
        "# Step 2: Mean and std of differences\n",
        "mean_diff = np.mean(diff)\n",
        "std_diff = np.std(diff, ddof=1)  # Sample standard deviation\n",
        "n = len(diff)\n",
        "\n",
        "# Step 3: Z-statistic\n",
        "z_stat = mean_diff / (std_diff / np.sqrt(n))\n",
        "\n",
        "# Step 4: Two-tailed p-value\n",
        "p_value = 2 * (1 - norm.cdf(abs(z_stat)))\n",
        "\n",
        "print(f\"Mean difference: {mean_diff:.2f}\")\n",
        "print(f\"Z-statistic: {z_stat:.4f}\")\n",
        "print(f\"P-value: {p_value:.4f}\")\n",
        "\n",
        "# Interpretation\n",
        "alpha = 0.05\n",
        "if p_value < alpha:\n",
        "    print(\"Reject the null hypothesis: The program significantly improves exam scores.\")\n",
        "else:\n",
        "    print(\"Fail to reject the null hypothesis: No significant improvement detected.\")"
      ],
      "metadata": {
        "colab": {
          "base_uri": "https://localhost:8080/"
        },
        "id": "SBcuYStDm2Vh",
        "outputId": "70c8d127-f43f-4d71-c2fe-a09b99fc3850"
      },
      "execution_count": 12,
      "outputs": [
        {
          "output_type": "stream",
          "name": "stdout",
          "text": [
            "Mean difference: 3.80\n",
            "Z-statistic: 4.5932\n",
            "P-value: 0.0000\n",
            "Reject the null hypothesis: The program significantly improves exam scores.\n"
          ]
        }
      ]
    },
    {
      "cell_type": "code",
      "source": [
        "\"\"\"\n",
        " Q13. A pharmaceutical company wants to determine if a new drug is effective in reducing blood pressure. They conduct a study and record blood pressure measurements\n",
        "     before and after administering the drug.\n",
        "\n",
        "              Use the below code to generate samples of respective arrays of blood pressure:\n",
        "                 ```python\n",
        "                    before_drug = np.array([145, 150, 140, 135, 155, 160, 152, 148, 130, 138])\n",
        "                    after_drug = np.array([130, 140, 132, 128, 145, 148, 138, 136, 125, 130])\n",
        "                 ```\n",
        "              Implement z-test to find if the drug really works or not.\n",
        "\"\"\"\n",
        "\n",
        "import numpy as np\n",
        "from scipy.stats import norm\n",
        "\n",
        "before_drug = np.array([145, 150, 140, 135, 155, 160, 152, 148, 130, 138])\n",
        "after_drug = np.array([130, 140, 132, 128, 145, 148, 138, 136, 125, 130])\n",
        "\n",
        "# Step 1: Calculate differences (after - before)\n",
        "diff = after_drug - before_drug\n",
        "\n",
        "# Step 2: Mean and standard deviation of differences\n",
        "mean_diff = np.mean(diff)\n",
        "std_diff = np.std(diff, ddof=1)  # Sample standard deviation\n",
        "n = len(diff)\n",
        "\n",
        "# Step 3: Calculate z-statistic\n",
        "z_stat = mean_diff / (std_diff / np.sqrt(n))\n",
        "\n",
        "# Step 4: Calculate two-tailed p-value\n",
        "p_value = 2 * (1 - norm.cdf(abs(z_stat)))\n",
        "\n",
        "print(f\"Mean difference: {mean_diff:.2f}\")\n",
        "print(f\"Z-statistic: {z_stat:.4f}\")\n",
        "print(f\"P-value: {p_value:.4f}\")\n",
        "\n",
        "# Step 5: Interpretation\n",
        "alpha = 0.05\n",
        "if p_value < alpha:\n",
        "    print(\"Reject the null hypothesis: The drug significantly reduces blood pressure.\")\n",
        "else:\n",
        "    print(\"Fail to reject the null hypothesis: No significant reduction detected.\")\n"
      ],
      "metadata": {
        "colab": {
          "base_uri": "https://localhost:8080/"
        },
        "id": "AdZovqSzp9Fg",
        "outputId": "30c2c61c-8a85-451e-ee4b-5f807d056940"
      },
      "execution_count": 13,
      "outputs": [
        {
          "output_type": "stream",
          "name": "stdout",
          "text": [
            "Mean difference: -10.10\n",
            "Z-statistic: -10.0499\n",
            "P-value: 0.0000\n",
            "Reject the null hypothesis: The drug significantly reduces blood pressure.\n"
          ]
        }
      ]
    },
    {
      "cell_type": "code",
      "source": [
        "\"\"\"\n",
        "Q14. A customer service department claims that their average response time is less than 5 minutes. A sample of recent customer interactions was taken, and the\n",
        "     response times were recorded.\n",
        "\n",
        "            Implement the below code to generate the array of response time:\n",
        "               ```python\n",
        "                  response_times = np.array([4.3, 3.8, 5.1, 4.9, 4.7, 4.2, 5.2, 4.5, 4.6, 4.4])\n",
        "                ```\n",
        "            Implement z-test to find the claims made by customer service department are tru or false\n",
        "\n",
        "\"\"\"\n",
        "\n",
        "import numpy as np\n",
        "from scipy.stats import norm\n",
        "\n",
        "# Sample data\n",
        "response_times = np.array([4.3, 3.8, 5.1, 4.9, 4.7, 4.2, 5.2, 4.5, 4.6, 4.4])\n",
        "\n",
        "# Known population mean (claimed)\n",
        "mu_0 = 5\n",
        "\n",
        "# Sample statistics\n",
        "sample_mean = np.mean(response_times)\n",
        "sample_std = np.std(response_times, ddof=1)  # Sample standard deviation\n",
        "n = len(response_times)\n",
        "\n",
        "# Z-test statistic\n",
        "z_stat = (sample_mean - mu_0) / (sample_std / np.sqrt(n))\n",
        "\n",
        "# One-tailed p-value (less than test)\n",
        "p_value = norm.cdf(z_stat)\n",
        "\n",
        "print(f\"Sample mean: {sample_mean:.2f}\")\n",
        "print(f\"Z-statistic: {z_stat:.4f}\")\n",
        "print(f\"P-value: {p_value:.4f}\")\n",
        "\n",
        "# Interpretation\n",
        "alpha = 0.05\n",
        "if p_value < alpha:\n",
        "    print(\"Reject the null hypothesis: The average response time is significantly less than 5 minutes. The claim is TRUE.\")\n",
        "else:\n",
        "    print(\"Fail to reject the null hypothesis: Not enough evidence to support the claim. The claim is FALSE.\")\n"
      ],
      "metadata": {
        "colab": {
          "base_uri": "https://localhost:8080/"
        },
        "id": "TRH8-kXyp_wp",
        "outputId": "c798af11-3ce4-4c4e-a521-a6fafd8737a1"
      },
      "execution_count": 14,
      "outputs": [
        {
          "output_type": "stream",
          "name": "stdout",
          "text": [
            "Sample mean: 4.57\n",
            "Z-statistic: -3.1845\n",
            "P-value: 0.0007\n",
            "Reject the null hypothesis: The average response time is significantly less than 5 minutes. The claim is TRUE.\n"
          ]
        }
      ]
    },
    {
      "cell_type": "code",
      "source": [
        "\"\"\"\n",
        "Q15. A company is testing two different website layouts to see which one leads to higher click-through rates. Write a Python function to perform an A/B test\n",
        "     analysis, including calculating the t-statistic, degrees of freedom, and p-value.\n",
        "\n",
        "              Use the following data:\n",
        "              ```python\n",
        "              layout_a_clicks = [28, 32, 33, 29, 31, 34, 30, 35, 36, 37]\n",
        "              layout_b_clicks = [40, 41, 38, 42, 39, 44, 43, 41, 45, 47]\n",
        "\n",
        "\n",
        "\"\"\"\n",
        "\n",
        "import numpy as np\n",
        "from scipy.stats import t\n",
        "\n",
        "def ab_test_ttest(sample_a, sample_b):\n",
        "    # Convert to numpy arrays\n",
        "    a = np.array(sample_a)\n",
        "    b = np.array(sample_b)\n",
        "\n",
        "    # Sample sizes\n",
        "    n_a = len(a)\n",
        "    n_b = len(b)\n",
        "\n",
        "    # Sample means and variances\n",
        "    mean_a = np.mean(a)\n",
        "    mean_b = np.mean(b)\n",
        "    var_a = np.var(a, ddof=1)\n",
        "    var_b = np.var(b, ddof=1)\n",
        "\n",
        "    # Pooled standard error\n",
        "    se = np.sqrt(var_a/n_a + var_b/n_b)\n",
        "\n",
        "    # t-statistic (B - A for directional clarity)\n",
        "    t_stat = (mean_b - mean_a) / se\n",
        "\n",
        "    # Degrees of freedom (Welch-Satterthwaite)\n",
        "    df_num = (var_a/n_a + var_b/n_b)**2\n",
        "    df_den = ((var_a/n_a)**2)/(n_a-1) + ((var_b/n_b)**2)/(n_b-1)\n",
        "    df = df_num / df_den\n",
        "\n",
        "    # Two-tailed p-value\n",
        "    p_value = 2 * t.sf(np.abs(t_stat), df)\n",
        "\n",
        "    return t_stat, df, p_value, mean_a, mean_b\n",
        "\n",
        "# Data\n",
        "layout_a_clicks = [28, 32, 33, 29, 31, 34, 30, 35, 36, 37]\n",
        "layout_b_clicks = [40, 41, 38, 42, 39, 44, 43, 41, 45, 47]\n",
        "\n",
        "# Run the test\n",
        "t_stat, df, p_value, mean_a, mean_b = ab_test_ttest(layout_a_clicks, layout_b_clicks)\n",
        "\n",
        "print(f\"Mean of Layout A: {mean_a:.2f}\")\n",
        "print(f\"Mean of Layout B: {mean_b:.2f}\")\n",
        "print(f\"T-statistic (B - A): {t_stat:.4f}\")\n",
        "print(f\"Degrees of Freedom: {df:.2f}\")\n",
        "print(f\"P-value (two-tailed): {p_value:.4f}\")\n",
        "\n",
        "# Interpretation\n",
        "alpha = 0.05\n",
        "if p_value < alpha:\n",
        "    print(\"✅ Result: Statistically significant difference between layouts.\")\n",
        "    if mean_b > mean_a:\n",
        "        print(\"✅ Layout B has a higher click-through rate.\")\n",
        "    else:\n",
        "        print(\"✅ Layout A has a higher click-through rate.\")\n",
        "else:\n",
        "    print(\"❌ Result: No statistically significant difference between layouts.\")\n",
        "\n"
      ],
      "metadata": {
        "colab": {
          "base_uri": "https://localhost:8080/"
        },
        "id": "b3iYmk91rmFy",
        "outputId": "511afb83-090b-499e-e45b-f5a1a7c577a5"
      },
      "execution_count": 15,
      "outputs": [
        {
          "output_type": "stream",
          "name": "stdout",
          "text": [
            "Mean of Layout A: 32.50\n",
            "Mean of Layout B: 42.00\n",
            "T-statistic (B - A): 7.2981\n",
            "Degrees of Freedom: 17.88\n",
            "P-value (two-tailed): 0.0000\n",
            "✅ Result: Statistically significant difference between layouts.\n",
            "✅ Layout B has a higher click-through rate.\n"
          ]
        }
      ]
    },
    {
      "cell_type": "code",
      "source": [
        "\"\"\"\n",
        "Q16. A pharmaceutical company wants to determine if a new drug is more effective than an existing drug in reducing cholesterol levels. Create a program to\n",
        "     analyze the clinical trial data and calculate the t-statistic and p-value for the treatment effect.\n",
        "\n",
        "            Use the following data of cholestrol level:\n",
        "                ```python\n",
        "                   existing_drug_levels = [180, 182, 175, 185, 178, 176, 172, 184, 179, 183]\n",
        "                   new_drug_levels = [170, 172, 165, 168, 175, 173, 170, 178, 172, 176]\n",
        "                ```\n",
        "\"\"\"\n",
        "\n",
        "import numpy as np\n",
        "from scipy.stats import ttest_ind\n",
        "\n",
        "# Cholesterol level data\n",
        "existing_drug_levels = [180, 182, 175, 185, 178, 176, 172, 184, 179, 183]\n",
        "new_drug_levels = [170, 172, 165, 168, 175, 173, 170, 178, 172, 176]\n",
        "\n",
        "# Convert to numpy arrays\n",
        "existing = np.array(existing_drug_levels)\n",
        "new = np.array(new_drug_levels)\n",
        "\n",
        "# Perform Welch's t-test (does not assume equal variances)\n",
        "t_stat, p_value = ttest_ind(existing, new, equal_var=False)\n",
        "\n",
        "print(f\"t-statistic: {t_stat:.4f}\")\n",
        "print(f\"p-value: {p_value:.4f}\")\n",
        "\n",
        "# Interpretation\n",
        "alpha = 0.05\n",
        "if p_value < alpha:\n",
        "    print(\"Result: Statistically significant difference. The new drug is more effective in reducing cholesterol levels.\")\n",
        "else:\n",
        "    print(\"Result: No statistically significant difference between the drugs.\")\n"
      ],
      "metadata": {
        "colab": {
          "base_uri": "https://localhost:8080/"
        },
        "id": "esw7IoOYseqE",
        "outputId": "bda2fe1a-3043-4b6a-d216-174350812576"
      },
      "execution_count": 16,
      "outputs": [
        {
          "output_type": "stream",
          "name": "stdout",
          "text": [
            "t-statistic: 4.1405\n",
            "p-value: 0.0006\n",
            "Result: Statistically significant difference. The new drug is more effective in reducing cholesterol levels.\n"
          ]
        }
      ]
    },
    {
      "cell_type": "code",
      "source": [
        "\"\"\"\n",
        " Q17. A school district introduces an educational intervention program to improve math scores. Write a Python function to analyze pre- and post-intervention\n",
        "      test scores, calculating the t-statistic and p-value to determine if the intervention had a significant impact.\n",
        "\n",
        "            Use the following data of test score:\n",
        "                 ```python\n",
        "                    pre_intervention_scores = [80, 85, 90, 75, 88, 82, 92, 78, 85, 87]\n",
        "                    post_intervention_scores = [90, 92, 88, 92, 95, 91, 96, 93, 89, 93]\n",
        "                ```\n",
        "\"\"\"\n",
        "\n",
        "import numpy as np\n",
        "from scipy.stats import ttest_rel\n",
        "\n",
        "def analyze_intervention(pre_scores, post_scores):\n",
        "    \"\"\"\n",
        "    Performs a paired t-test on pre- and post-intervention scores.\n",
        "    Prints the t-statistic and p-value, and interprets the result.\n",
        "    \"\"\"\n",
        "    # Use post - pre to measure improvement\n",
        "    t_stat, p_value = ttest_rel(post_scores, pre_scores)\n",
        "    print(f\"t-statistic: {t_stat:.4f}\")\n",
        "    print(f\"p-value: {p_value:.4f}\")\n",
        "\n",
        "    # Hypothesis testing\n",
        "    alpha = 0.05\n",
        "    if p_value < alpha:\n",
        "        print(\"Result: Statistically significant improvement in scores after intervention.\")\n",
        "    else:\n",
        "        print(\"Result: No statistically significant improvement detected.\")\n",
        "\n",
        "# Test score data\n",
        "pre_intervention_scores = [80, 85, 90, 75, 88, 82, 92, 78, 85, 87]\n",
        "post_intervention_scores = [90, 92, 88, 92, 95, 91, 96, 93, 89, 93]\n",
        "\n",
        "# Run analysis\n",
        "analyze_intervention(pre_intervention_scores, post_intervention_scores)\n",
        "\n"
      ],
      "metadata": {
        "id": "QsFvz3OIsgz9",
        "colab": {
          "base_uri": "https://localhost:8080/"
        },
        "outputId": "acd94f5e-953e-4185-8421-05c8773a85c1"
      },
      "execution_count": 17,
      "outputs": [
        {
          "output_type": "stream",
          "name": "stdout",
          "text": [
            "t-statistic: 4.4284\n",
            "p-value: 0.0017\n",
            "Result: Statistically significant improvement in scores after intervention.\n"
          ]
        }
      ]
    },
    {
      "cell_type": "code",
      "source": [
        "\"\"\"\n",
        " Q18. An HR department wants to investigate if there's a gender-based salary gap within the company. Develop a program to analyze salary data, calculate\n",
        "      the t-statistic, and determine if there's a statistically significant difference between the average salaries of male and female employees.\n",
        "\n",
        "               Use the below code to generate synthetic data:\n",
        "                    ```python\n",
        "                       # Generate synthetic salary data for male and female employees\n",
        "                       np.random.seed(0)  # For reproducibility\n",
        "                       male_salaries = np.random.normal(loc=50000, scale=10000, size=20)\n",
        "                       female_salaries = np.random.normal(loc=55000, scale=9000, size=20)\n",
        "                     ```\n",
        "\n",
        "\"\"\"\n",
        "\n",
        "import numpy as np\n",
        "from scipy.stats import ttest_ind\n",
        "\n",
        "# Generate synthetic salary data for male and female employees\n",
        "np.random.seed(0)  # For reproducibility\n",
        "\n",
        "male_salaries = np.random.normal(loc=50000, scale=10000, size=20)\n",
        "female_salaries = np.random.normal(loc=55000, scale=9000, size=20)\n",
        "\n",
        "# Perform Welch's t-test (does not assume equal variances)\n",
        "t_stat, p_value = ttest_ind(male_salaries, female_salaries, equal_var=False)\n",
        "\n",
        "# Output results\n",
        "print(\"=== Gender Salary Analysis ===\")\n",
        "print(f\"Mean Male Salary: ${np.mean(male_salaries):.2f}\")\n",
        "print(f\"Mean Female Salary: ${np.mean(female_salaries):.2f}\")\n",
        "print(f\"t-statistic: {t_stat:.4f}\")\n",
        "print(f\"p-value: {p_value:.4f}\")\n",
        "\n",
        "# Interpret results\n",
        "alpha = 0.05\n",
        "if p_value < alpha:\n",
        "    print(\"Result: Statistically significant difference in salaries between genders.\")\n",
        "else:\n",
        "    print(\"Result: No statistically significant difference in salaries between genders.\")\n"
      ],
      "metadata": {
        "colab": {
          "base_uri": "https://localhost:8080/"
        },
        "id": "yQf7rKIugmPZ",
        "outputId": "d372b876-b958-4980-eddf-2fad6a38fd9e"
      },
      "execution_count": 18,
      "outputs": [
        {
          "output_type": "stream",
          "name": "stdout",
          "text": [
            "=== Gender Salary Analysis ===\n",
            "Mean Male Salary: $55693.35\n",
            "Mean Female Salary: $55501.75\n",
            "t-statistic: 0.0611\n",
            "p-value: 0.9516\n",
            "Result: No statistically significant difference in salaries between genders.\n"
          ]
        }
      ]
    },
    {
      "cell_type": "code",
      "source": [
        "\"\"\"\n",
        " Q19. A manufacturer produces two different versions of a product and wants to compare their quality scores. Create a Python function to analyze quality\n",
        "      assessment data, calculate the t-statistic, and decide whether there's a significant difference in quality between the two versions.\n",
        "\n",
        "              Use the following data:\n",
        "              ```python\n",
        "                 version1_scores = [85, 88, 82, 89, 87, 84, 90, 88, 85, 86, 91, 83, 87, 84, 89, 86, 84, 88, 85, 86, 89, 90, 87, 88, 85]\n",
        "                 version2_scores = [80, 78, 83, 81, 79, 82, 76, 80, 78, 81, 77, 82, 80, 79, 82, 79, 80, 81, 79, 82, 79, 78, 80, 81, 82]\n",
        "              ```\n",
        "\"\"\"\n",
        "\n",
        "import numpy as np\n",
        "from scipy.stats import ttest_ind\n",
        "\n",
        "def compare_product_versions(version1, version2, alpha=0.05):\n",
        "    # Convert to NumPy arrays\n",
        "    v1 = np.array(version1)\n",
        "    v2 = np.array(version2)\n",
        "\n",
        "    # Calculate mean scores\n",
        "    mean_v1 = np.mean(v1)\n",
        "    mean_v2 = np.mean(v2)\n",
        "\n",
        "    # Perform Welch's t-test\n",
        "    t_stat, p_value = ttest_ind(v1, v2, equal_var=False)\n",
        "\n",
        "    # Output results\n",
        "    print(\"=== Product Quality Comparison ===\")\n",
        "    print(f\"Mean Score - Version 1: {mean_v1:.2f}\")\n",
        "    print(f\"Mean Score - Version 2: {mean_v2:.2f}\")\n",
        "    print(f\"t-statistic: {t_stat:.4f}\")\n",
        "    print(f\"p-value: {p_value:.4f}\")\n",
        "\n",
        "    # Interpret results\n",
        "    if p_value < alpha:\n",
        "        print(\"Result: Statistically significant difference in quality between the two versions.\")\n",
        "        if mean_v1 > mean_v2:\n",
        "            print(\"Version 1 has higher quality.\")\n",
        "        else:\n",
        "            print(\"Version 2 has higher quality.\")\n",
        "    else:\n",
        "        print(\"Result: No statistically significant difference in quality between the two versions.\")\n",
        "\n",
        "# Provided quality score data\n",
        "version1_scores = [85, 88, 82, 89, 87, 84, 90, 88, 85, 86, 91, 83, 87, 84, 89, 86, 84, 88, 85, 86, 89, 90, 87, 88, 85]\n",
        "version2_scores = [80, 78, 83, 81, 79, 82, 76, 80, 78, 81, 77, 82, 80, 79, 82, 79, 80, 81, 79, 82, 79, 78, 80, 81, 82]\n",
        "\n",
        "# Run the comparison\n",
        "compare_product_versions(version1_scores, version2_scores)\n"
      ],
      "metadata": {
        "colab": {
          "base_uri": "https://localhost:8080/"
        },
        "id": "9rHLST7RlPZa",
        "outputId": "9173560b-0019-4659-a66b-c07623ac0bdb"
      },
      "execution_count": 19,
      "outputs": [
        {
          "output_type": "stream",
          "name": "stdout",
          "text": [
            "=== Product Quality Comparison ===\n",
            "Mean Score - Version 1: 86.64\n",
            "Mean Score - Version 2: 79.96\n",
            "t-statistic: 11.3258\n",
            "p-value: 0.0000\n",
            "Result: Statistically significant difference in quality between the two versions.\n",
            "Version 1 has higher quality.\n"
          ]
        }
      ]
    },
    {
      "cell_type": "code",
      "source": [
        "\"\"\"\n",
        "Q20. A restaurant chain collects customer satisfaction scores for two different branches. Write a program to analyze the scores, calculate the t-statistic,\n",
        "     and determine if there's a statistically significant difference in customer satisfaction between the branches.\n",
        "\n",
        "             Use the below data of scores:\n",
        "             ```python\n",
        "                branch_a_scores = [4, 5, 3, 4, 5, 4, 5, 3, 4, 4, 5, 4, 4, 3, 4, 5, 5, 4, 3, 4, 5, 4, 3, 5, 4, 4, 5, 3, 4, 5, 4]\n",
        "                branch_b_scores = [3, 4, 2, 3, 4, 3, 4, 2, 3, 3, 4, 3, 3, 2, 3, 4, 4, 3, 2, 3, 4, 3, 2, 4, 3, 3, 4, 2, 3, 4, 3]\n",
        "             ```\n",
        "\"\"\"\n",
        "\n",
        "import numpy as np\n",
        "from scipy.stats import ttest_ind\n",
        "\n",
        "def compare_branch_scores(branch_a, branch_b, alpha=0.05):\n",
        "    \"\"\"\n",
        "    Performs an independent t-test (Welch's t-test) to compare two sets of scores.\n",
        "    \"\"\"\n",
        "    # Convert lists to NumPy arrays\n",
        "    a = np.array(branch_a)\n",
        "    b = np.array(branch_b)\n",
        "\n",
        "    # Calculate means\n",
        "    mean_a = np.mean(a)\n",
        "    mean_b = np.mean(b)\n",
        "\n",
        "    # Perform Welch’s t-test (does not assume equal variance)\n",
        "    t_stat, p_value = ttest_ind(a, b, equal_var=False)\n",
        "\n",
        "    # Display results\n",
        "    print(\"=== Customer Satisfaction Comparison ===\")\n",
        "    print(f\"Branch A Mean Score: {mean_a:.2f}\")\n",
        "    print(f\"Branch B Mean Score: {mean_b:.2f}\")\n",
        "    print(f\"t-statistic: {t_stat:.4f}\")\n",
        "    print(f\"p-value: {p_value:.4f}\")\n",
        "\n",
        "    # Interpretation\n",
        "    if p_value < alpha:\n",
        "        print(\"Result: Statistically significant difference in customer satisfaction between branches.\")\n",
        "        if mean_a > mean_b:\n",
        "            print(\"Branch A has higher customer satisfaction.\")\n",
        "        else:\n",
        "            print(\"Branch B has higher customer satisfaction.\")\n",
        "    else:\n",
        "        print(\"Result: No statistically significant difference in customer satisfaction.\")\n",
        "\n",
        "# Provided scores\n",
        "branch_a_scores = [4, 5, 3, 4, 5, 4, 5, 3, 4, 4, 5, 4, 4, 3, 4, 5, 5, 4, 3, 4, 5, 4, 3, 5, 4, 4, 5, 3, 4, 5, 4]\n",
        "branch_b_scores = [3, 4, 2, 3, 4, 3, 4, 2, 3, 3, 4, 3, 3, 2, 3, 4, 4, 3, 2, 3, 4, 3, 2, 4, 3, 3, 4, 2, 3, 4, 3]\n",
        "\n",
        "# Run the comparison\n",
        "compare_branch_scores(branch_a_scores, branch_b_scores)\n"
      ],
      "metadata": {
        "colab": {
          "base_uri": "https://localhost:8080/"
        },
        "id": "Hy0Td92clWUT",
        "outputId": "57e73de5-105d-4497-8891-75921cbe956a"
      },
      "execution_count": 20,
      "outputs": [
        {
          "output_type": "stream",
          "name": "stdout",
          "text": [
            "=== Customer Satisfaction Comparison ===\n",
            "Branch A Mean Score: 4.13\n",
            "Branch B Mean Score: 3.13\n",
            "t-statistic: 5.4801\n",
            "p-value: 0.0000\n",
            "Result: Statistically significant difference in customer satisfaction between branches.\n",
            "Branch A has higher customer satisfaction.\n"
          ]
        }
      ]
    },
    {
      "cell_type": "code",
      "source": [
        "\"\"\"\n",
        " Q21. A political analyst wants to determine if there is a significant association between age groups and voter preferences (Candidate A or Candidate B).\n",
        "      They collect data from a sample of 500 voters and classify them into different age groups and candidate preferences. Perform a Chi-Square test to\n",
        "      determine if there is a significant association between age groups and voter preferences.\n",
        "\n",
        "             Use the below code to generate data:\n",
        "             ```python\n",
        "                np.random.seed(0)\n",
        "                age_groups = np.random.choice(['18-30', '31-50', '51+', '51+'], size=30)\n",
        "                voter_preferences = np.random.choice(['Candidate A', 'Candidate B'], size=30)\n",
        "              ```\n",
        "\"\"\"\n",
        "\n",
        "import numpy as np\n",
        "import pandas as pd\n",
        "from scipy.stats import chi2_contingency\n",
        "\n",
        "# Step 1: Generate the Data\n",
        "np.random.seed(0)\n",
        "age_groups = np.random.choice(['18-30', '31-50', '51+', '51+'], size=30)\n",
        "voter_preferences = np.random.choice(['Candidate A', 'Candidate B'], size=30)\n",
        "\n",
        "df = pd.DataFrame({\n",
        "    'Age Group': age_groups,\n",
        "    'Voter Preference': voter_preferences\n",
        "})\n",
        "\n",
        "# Step 2: Create the Contingency Table\n",
        "contingency_table = pd.crosstab(df['Age Group'], df['Voter Preference'])\n",
        "print(\"Contingency Table:\")\n",
        "print(contingency_table)\n",
        "\n",
        "# Step 3: Perform Chi-Square Test\n",
        "chi2, p, dof, expected = chi2_contingency(contingency_table)\n",
        "\n",
        "# Step 4: Display Results\n",
        "print(\"\\nChi-Square Test Results:\")\n",
        "print(f\"Chi-Square Statistic: {chi2:.4f}\")\n",
        "print(f\"Degrees of Freedom: {dof}\")\n",
        "print(f\"P-value: {p:.4f}\")\n",
        "\n",
        "# Step 5: Interpretation\n",
        "alpha = 0.05\n",
        "if p < alpha:\n",
        "    print(\"\\nConclusion: Reject the null hypothesis.\")\n",
        "    print(\"There is a significant association between age groups and voter preferences.\")\n",
        "else:\n",
        "    print(\"\\nConclusion: Fail to reject the null hypothesis.\")\n",
        "    print(\"There is no significant association between age groups and voter preferences.\")\n"
      ],
      "metadata": {
        "id": "VrvpE_49nuQy",
        "colab": {
          "base_uri": "https://localhost:8080/"
        },
        "outputId": "917e2233-2a04-4c7c-8a66-ed79cf1242e0"
      },
      "execution_count": 21,
      "outputs": [
        {
          "output_type": "stream",
          "name": "stdout",
          "text": [
            "Contingency Table:\n",
            "Voter Preference  Candidate A  Candidate B\n",
            "Age Group                                 \n",
            "18-30                       2            6\n",
            "31-50                       4            4\n",
            "51+                         5            9\n",
            "\n",
            "Chi-Square Test Results:\n",
            "Chi-Square Statistic: 1.0868\n",
            "Degrees of Freedom: 2\n",
            "P-value: 0.5808\n",
            "\n",
            "Conclusion: Fail to reject the null hypothesis.\n",
            "There is no significant association between age groups and voter preferences.\n"
          ]
        }
      ]
    },
    {
      "cell_type": "code",
      "source": [
        "\"\"\"\n",
        "  Q22. A company conducted a customer satisfaction survey to determine if there is a significant relationship between product satisfaction levels (Satisfied,\n",
        "       Neutral, Dissatisfied) and the region where customers are located (East, West, North, South). The survey data is summarized in a contingency table.\n",
        "       Conduct a ChiSquare test to determine if there is a significant relationship between product satisfaction levels and customer regions.\n",
        "\n",
        "                    Sample data:\n",
        "                    ```python\n",
        "                       #Sample data: Product satisfaction levels (rows) vs. Customer regions (columns)\n",
        "                       data = np.array([[50, 30, 40, 20], [30, 40, 30, 50], [20, 30, 40, 30]])\n",
        "                    ```\n",
        "\n",
        "\"\"\"\n",
        "import numpy as np\n",
        "import pandas as pd\n",
        "from scipy.stats import chi2_contingency\n",
        "\n",
        "# Define the data\n",
        "data = np.array([\n",
        "    [50, 30, 40, 20],   # Satisfied\n",
        "    [30, 40, 30, 50],   # Neutral\n",
        "    [20, 30, 40, 30]    # Dissatisfied\n",
        "])\n",
        "\n",
        "# Create DataFrame for clarity\n",
        "df = pd.DataFrame(data,\n",
        "                  index=['Satisfied', 'Neutral', 'Dissatisfied'],\n",
        "                  columns=['East', 'West', 'North', 'South'])\n",
        "\n",
        "print(\"Contingency Table:\")\n",
        "print(df)\n",
        "\n",
        "# Perform Chi-Square Test\n",
        "chi2, p, dof, expected = chi2_contingency(data)\n",
        "\n",
        "print(\"\\nChi-Square Test Results:\")\n",
        "print(f\"Chi-Square Statistic: {chi2:.4f}\")\n",
        "print(f\"Degrees of Freedom: {dof}\")\n",
        "print(f\"P-value: {p:.4f}\")\n",
        "\n",
        "# Interpretation\n",
        "alpha = 0.05\n",
        "if p < alpha:\n",
        "    print(\"\\nConclusion: Reject the null hypothesis.\")\n",
        "    print(\"There is a significant relationship between product satisfaction and customer region.\")\n",
        "else:\n",
        "    print(\"\\nConclusion: Fail to reject the null hypothesis.\")\n",
        "    print(\"There is no significant relationship between product satisfaction and customer region.\")\n",
        "\n"
      ],
      "metadata": {
        "colab": {
          "base_uri": "https://localhost:8080/"
        },
        "id": "jl4UMLWxfNMR",
        "outputId": "d5934388-48dc-4a36-cf99-3da172527207"
      },
      "execution_count": 22,
      "outputs": [
        {
          "output_type": "stream",
          "name": "stdout",
          "text": [
            "Contingency Table:\n",
            "              East  West  North  South\n",
            "Satisfied       50    30     40     20\n",
            "Neutral         30    40     30     50\n",
            "Dissatisfied    20    30     40     30\n",
            "\n",
            "Chi-Square Test Results:\n",
            "Chi-Square Statistic: 27.7771\n",
            "Degrees of Freedom: 6\n",
            "P-value: 0.0001\n",
            "\n",
            "Conclusion: Reject the null hypothesis.\n",
            "There is a significant relationship between product satisfaction and customer region.\n"
          ]
        }
      ]
    },
    {
      "cell_type": "code",
      "source": [
        "\"\"\"\n",
        " Q23.  A company implemented an employee training program to improve job performance (Effective, Neutral, Ineffective). After the training, they collected\n",
        "       data from a sample of employees and classified them based on their job performance before and after the training. Perform a Chi-Square test to deter\n",
        "       mine if there is a significant difference between job performance levels before and after the training.\n",
        "\n",
        "                     Sample data:\n",
        "                        ```python\n",
        "                           Sample data: Job performance levels before (rows) and after (columns) training\n",
        "                           data = np.array([[50, 30, 20], [30, 40, 30], [20, 30, 40]])\n",
        "\"\"\"\n",
        "\n",
        "import numpy as np\n",
        "import pandas as pd\n",
        "from scipy.stats import chi2_contingency\n",
        "\n",
        "# Define the data\n",
        "data = np.array([\n",
        "    [50, 30, 20],  # Effective before\n",
        "    [30, 40, 30],  # Neutral before\n",
        "    [20, 30, 40]   # Ineffective before\n",
        "])\n",
        "\n",
        "# Create DataFrame for readability\n",
        "df = pd.DataFrame(data,\n",
        "                  index=['Effective (Before)', 'Neutral (Before)', 'Ineffective (Before)'],\n",
        "                  columns=['Effective (After)', 'Neutral (After)', 'Ineffective (After)'])\n",
        "\n",
        "print(\"Contingency Table:\")\n",
        "print(df)\n",
        "\n",
        "# Chi-Square Test\n",
        "chi2, p, dof, expected = chi2_contingency(data)\n",
        "\n",
        "print(\"\\nChi-Square Test Results:\")\n",
        "print(f\"Chi-Square Statistic: {chi2:.4f}\")\n",
        "print(f\"Degrees of Freedom: {dof}\")\n",
        "print(f\"P-value: {p:.4f}\")\n",
        "\n",
        "# Interpretation\n",
        "alpha = 0.05\n",
        "if p < alpha:\n",
        "    print(\"\\nConclusion: Reject the null hypothesis.\")\n",
        "    print(\"There is a significant difference in job performance levels before and after the training.\")\n",
        "else:\n",
        "    print(\"\\nConclusion: Fail to reject the null hypothesis.\")\n",
        "    print(\"There is no significant difference in job performance levels before and after the training.\")\n"
      ],
      "metadata": {
        "colab": {
          "base_uri": "https://localhost:8080/"
        },
        "id": "E70FQMNYgd9K",
        "outputId": "d16da445-9459-404d-b754-7d71e0358fad"
      },
      "execution_count": 23,
      "outputs": [
        {
          "output_type": "stream",
          "name": "stdout",
          "text": [
            "Contingency Table:\n",
            "                      Effective (After)  Neutral (After)  Ineffective (After)\n",
            "Effective (Before)                   50               30                   20\n",
            "Neutral (Before)                     30               40                   30\n",
            "Ineffective (Before)                 20               30                   40\n",
            "\n",
            "Chi-Square Test Results:\n",
            "Chi-Square Statistic: 22.1617\n",
            "Degrees of Freedom: 4\n",
            "P-value: 0.0002\n",
            "\n",
            "Conclusion: Reject the null hypothesis.\n",
            "There is a significant difference in job performance levels before and after the training.\n"
          ]
        }
      ]
    },
    {
      "cell_type": "code",
      "source": [
        "\"\"\"\n",
        " Q24. A company produces three different versions of a product: Standard, Premium, and Deluxe. The company wants to determine if there is a significant\n",
        "      difference in customer satisfaction scores among the three product versions. They conducted a survey and collected customer satisfaction scores for\n",
        "      each version from a random sample of customers. Perform an ANOVA test to determine if there is a significant difference in customer satisfaction\n",
        "      scores.\n",
        "\n",
        "              Use the following data:\n",
        "                  ```python\n",
        "                    # Sample data: Customer satisfaction scores for each product version\n",
        "                      standard_scores = [80, 85, 90, 78, 88, 82, 92, 78, 85, 87] ```\n",
        "                      premium_scores = [90, 92, 88, 92, 95, 91, 96, 93, 89, 93]\n",
        "                      deluxe_scores = [95, 98, 92, 97, 96, 94, 98, 97, 92, 99]\n",
        "                   ```\n",
        "\"\"\"\n",
        "\n",
        "from scipy.stats import f_oneway\n",
        "\n",
        "# Define the satisfaction scores\n",
        "standard_scores = [80, 85, 90, 78, 88, 82, 92, 78, 85, 87]\n",
        "premium_scores = [90, 92, 88, 92, 95, 91, 96, 93, 89, 93]\n",
        "deluxe_scores = [95, 98, 92, 97, 96, 94, 98, 97, 92, 99]\n",
        "\n",
        "# Perform one-way ANOVA\n",
        "f_stat, p_value = f_oneway(standard_scores, premium_scores, deluxe_scores)\n",
        "\n",
        "# Display the results\n",
        "print(\"ANOVA Test Results:\")\n",
        "print(f\"F-statistic: {f_stat:.4f}\")\n",
        "print(f\"P-value: {p_value:.4f}\")\n",
        "\n",
        "# Interpretation\n",
        "alpha = 0.05\n",
        "if p_value < alpha:\n",
        "    print(\"\\nConclusion: Reject the null hypothesis.\")\n",
        "    print(\"There is a significant difference in satisfaction scores among the product versions.\")\n",
        "else:\n",
        "    print(\"\\nConclusion: Fail to reject the null hypothesis.\")\n",
        "    print(\"There is no significant difference in satisfaction scores among the product versions.\")\n"
      ],
      "metadata": {
        "colab": {
          "base_uri": "https://localhost:8080/"
        },
        "id": "KFdQaqAwge8O",
        "outputId": "0f4bd878-de9e-4edf-8c27-530e2cfb1565"
      },
      "execution_count": 24,
      "outputs": [
        {
          "output_type": "stream",
          "name": "stdout",
          "text": [
            "ANOVA Test Results:\n",
            "F-statistic: 27.0356\n",
            "P-value: 0.0000\n",
            "\n",
            "Conclusion: Reject the null hypothesis.\n",
            "There is a significant difference in satisfaction scores among the product versions.\n"
          ]
        }
      ]
    },
    {
      "cell_type": "code",
      "source": [],
      "metadata": {
        "id": "aWCaKWp-iA_n"
      },
      "execution_count": null,
      "outputs": []
    }
  ]
}